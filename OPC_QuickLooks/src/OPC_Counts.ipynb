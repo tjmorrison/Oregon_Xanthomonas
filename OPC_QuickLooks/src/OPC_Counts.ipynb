{
 "cells": [
  {
   "cell_type": "code",
   "execution_count": 38,
   "source": [
    "import pandas as pd\r\n",
    "import numpy as np\r\n",
    "import datetime as dt\r\n",
    "import matplotlib.pyplot as plt\r\n",
    "import matplotlib as mpl\r\n",
    "mpl.rcParams['text.usetex'] = True"
   ],
   "outputs": [],
   "metadata": {}
  },
  {
   "cell_type": "code",
   "execution_count": 34,
   "source": [
    "\r\n",
    "\r\n",
    "'''------------------------------------ Data Path ----------------------------------------------------'''\r\n",
    "File = \"madras_2021_0_5m_911_6.csv\"\r\n",
    "Data_path = \"C:/Users/tjmor/Documents/Local_Data/Oregon_Xanthomonas/\"\r\n",
    "\r\n",
    "'''--------------------------------------- Load Data ----------------------------------------------------'''\r\n",
    "df1 = pd.read_csv(Data_path+File,skiprows=13)\r\n",
    "'''----------------------------------- Convert Excel Time ----------------------------------------------------'''\r\n",
    "df1['Time'] = pd.TimedeltaIndex(df1['OADateTime'], unit='d') + dt.datetime(1899,12,30)\r\n",
    "'''----------------------------------- Select Time Subset ----------------------------------------------------'''\r\n",
    "df1 = df1.set_index('Time')\r\n",
    "df1 = df1.loc['2021-09-04 18:00:00':]\r\n"
   ],
   "outputs": [
    {
     "output_type": "stream",
     "name": "stderr",
     "text": [
      "<ipython-input-34-2398e16261b1>:15: FutureWarning: Value based partial slicing on non-monotonic DatetimeIndexes with non-existing keys is deprecated and will raise a KeyError in a future Version.\n",
      "  df1 = df1.loc['2021-09-04 18:00:00':]\n"
     ]
    }
   ],
   "metadata": {}
  },
  {
   "cell_type": "code",
   "execution_count": 48,
   "source": [
    "time = np.array(df1.index)\r\n",
    "\r\n",
    "Time = []\r\n",
    "for i in range(len(time)):\r\n",
    "    Time.append(str(time[i])[11:19])\r\n"
   ],
   "outputs": [],
   "metadata": {}
  },
  {
   "cell_type": "code",
   "execution_count": 50,
   "source": [
    "print(time)"
   ],
   "outputs": [
    {
     "output_type": "stream",
     "name": "stdout",
     "text": [
      "['2021-09-04T18:00:00.461980800' '2021-09-04T18:00:01.463011200'\n",
      " '2021-09-04T18:00:02.464992000' ... '2021-09-05T00:27:05.570035200'\n",
      " '2021-09-05T00:27:06.563980800' '2021-09-05T00:27:07.575033600']\n"
     ]
    }
   ],
   "metadata": {}
  },
  {
   "cell_type": "code",
   "execution_count": null,
   "source": [
    "# Pre-process the data\r\n",
    "'''---------------------------------------------- FIGURE 1: Plot rolling means ------------------------------------------------------'''\r\n",
    "ymax = 1500\r\n",
    "#Figure 1 ~ PM1, PM2.5, and PM10\r\n",
    "fig, (ax1, ax2, ax3) = plt.subplots(3, sharex=True, figsize=(15, 10))\r\n",
    "\r\n",
    "ax1.plot(Time, df1['RollMean_PM1'])\r\n",
    "ax1.set(ylabel = r'PM1 [$\\mu$g/m$^3$]')\r\n",
    "ax1.grid(b=bool, which='major', axis='both')\r\n",
    "ax1.autoscale(enable=True, axis='x', tight=True)\r\n",
    "#ax1.set_ylim(0, 20)\r\n",
    "ax1.legend(['SEOPC','SWOPC'])\r\n",
    "\r\n",
    "ax2.plot(Time, df1['RollMean_PM2.5'])\r\n",
    "ax2.set(ylabel = r'PM2.5 [$\\mu$g/m$^3$]')\r\n",
    "ax2.grid(b=bool, which='major', axis='both')\r\n",
    "ax2.autoscale(enable=True, axis='x', tight=True)\r\n",
    "#ax2.set_ylim(0, 30)\r\n",
    "\r\n",
    "ax3.plot(Time, df1['RollMean_PM10'])\r\n",
    "ax3.set(ylabel = r'PM10 [$\\mu$g/m$^3$]')\r\n",
    "ax3.grid(b=bool, which='major', axis='both')\r\n",
    "ax3.autoscale(enable=True, axis='x', tight=True)\r\n",
    "#ax3.set_ylim(0, 50)\r\n",
    "\r\n",
    "plt.minorticks_on()\r\n",
    "#save figure\r\n",
    "#plt.savefig('../gen/' + Figure_Name +'.png', bbox_inches='tight')"
   ],
   "outputs": [],
   "metadata": {}
  },
  {
   "cell_type": "markdown",
   "source": [
    "Lower Boundary \r\n",
    "Bin low boundary (particle diameter [um])\t0.35\t0.46\t0.66\t1\t1.3\t1.7\t2.3\t3\t4\t5.2\t6.5\t8\t10\t12\t14\t16\t18\t20\t22\t25\t28\t31\t34\t37\t40\t\t\t\t\t\t\t\t\t\t\t\t\t\t\t\t\t\t\t\t\r\n"
   ],
   "metadata": {}
  },
  {
   "cell_type": "code",
   "execution_count": 249,
   "source": [
    "'''------------------------------------Caclulate Bin Count Rolling Mean-------------------------------------------'''\r\n",
    "# Set our bins\r\n",
    "PM1 = df1['Bin00']+df1['Bin01']+df1['Bin02']\r\n",
    "PM1_3 = df1['Bin03']+df1['Bin04']+df1['Bin05']+df1['Bin06']\r\n",
    "PM3_10 = df1['Bin07']+df1['Bin08']+df1['Bin09']+df1['Bin10']+df1['Bin11']\r\n",
    "PM10_40 = df1['Bin12']+df1['Bin13']+df1['Bin14']+df1['Bin15']+df1['Bin16']+df1['Bin17']+df1['Bin18']+df1['Bin19']+df1['Bin20']+df1['Bin21']+df1['Bin22']+df1['Bin23']\r\n",
    "\r\n",
    "PM1_cum = PM1\r\n",
    "PM3_cum = PM1+PM1_3\r\n",
    "PM10_cum = PM1+PM1_3+PM3_10\r\n",
    "PM40_cum = PM1+PM1_3+PM3_10+PM10_40\r\n",
    "\r\n",
    "'''------------------------------------Caclulate Bin Count Rolling Mean-------------------------------------------'''\r\n",
    "PM1_roll = PM1.rolling(60).mean()\r\n",
    "PM1_3_roll = PM1_3.rolling(60).mean()\r\n",
    "PM3_10_roll = PM3_10.rolling(60).mean()\r\n",
    "PM10_40_roll = PM10_40.rolling(60).mean()\r\n",
    "\r\n",
    "#plt.plot(PM1)\r\n",
    "#print(PM10_40.tail)\r\n",
    "\r\n"
   ],
   "outputs": [],
   "metadata": {}
  },
  {
   "cell_type": "code",
   "execution_count": 289,
   "source": [
    "plt.plot(PM3_10_roll)"
   ],
   "outputs": [
    {
     "output_type": "execute_result",
     "data": {
      "text/plain": [
       "[<matplotlib.lines.Line2D at 0x1709eac3040>]"
      ]
     },
     "metadata": {},
     "execution_count": 289
    },
    {
     "output_type": "display_data",
     "data": {
      "image/png": "[encoded data removed]",
      "text/plain": [
       "<Figure size 432x288 with 1 Axes>"
      ]
     },
     "metadata": {
      "needs_background": "light"
     }
    }
   ],
   "metadata": {}
  }
 ],
 "metadata": {
  "orig_nbformat": 4,
  "language_info": {
   "name": "python",
   "version": "3.8.5",
   "mimetype": "text/x-python",
   "codemirror_mode": {
    "name": "ipython",
    "version": 3
   },
   "pygments_lexer": "ipython3",
   "nbconvert_exporter": "python",
   "file_extension": ".py"
  },
  "kernelspec": {
   "name": "python3",
   "display_name": "Python 3.8.5 64-bit ('base': conda)"
  },
  "interpreter": {
   "hash": "343a686248f3d62fcbb4daa5b57172d9559863ecbfa71ce6f928aa744638738f"
  }
 },
 "nbformat": 4,
 "nbformat_minor": 2
}